{
 "cells": [
  {
   "cell_type": "markdown",
   "metadata": {},
   "source": [
    "## 16 - 11 - 2020\n",
    "\n",
    "**Aim:** Get an overview of project, earlier results and infrastructure\n",
    "\n",
    "**Result:** Requested access to LUNARC to acccess binary classifier from earlier project. Also started with data exploration in Excel and calculated correlations in the labeling between different lablers. \n",
    "\n",
    "**Next step:** Continue exploring the data and test current binary classifier. Also learn more about the data preperation through meeting on wednesday.\n",
    "\n",
    "## 23 - 11 - 2020\n",
    "**Aim:** Make the training script run.\n",
    "\n",
    "**Result:** The script was able to train the binary model.\n",
    "\n",
    "**Next step:** Extend the model to a three class model instead of the binary model."
   ]
  },
  {
   "cell_type": "markdown",
   "metadata": {},
   "source": [
    "## 27 - 11 - 2020\n",
    "\n",
    "**Aim:** Remake the binary classifier into a classifier with three classes. \n",
    "\n",
    "**Result:** The model can now detect three classes, where each class is a level of tissue damage. The classes are: Low, Medium & High, where they correspond to an average damage score of 0-10, 10-25 and >25. Accuracy was 82%.\n",
    "\n",
    "**Next step:** Explore different sectioning of test and training sets. Add a regression model.\n",
    "\n",
    "## 8 - 12 - 2020\n",
    "\n",
    "**Aim:** Finish statistical analysis in Excel, create dataset folds in Colab, remove white-space images. \n",
    "\n",
    "**Result:** Correlation analysis was finished and diagrams added to Overleaf. Data leakage was identified in current model and fixed, including writing custom code for making folds separating histology slides. White-space images removed.\n",
    "\n",
    "**Next step:** Retrain model with three different folds and note accuracy. Plot history from training process, save best models and perform data augmentation. \n",
    "    "
   ]
  },
  {
   "cell_type": "markdown",
   "metadata": {},
   "source": [
    "## 14 - 12 - 2020\n",
    "**Aim:** Add history, callbacks and plot training progress. Retrain the 3 Class Classifier with three different fold and take average. Examine precise value of missclassified labels.\n",
    "\n",
    "**Result:** Successfully plotted the training progress and made a custom callback to compute precision, recall and F1-score progression. Retrained with the 3 folds and got an average accuracy of 78.6 %\n",
    "\n",
    "**Next step:** Clean up code for readability, implement regression model and examine scores. If time experiment with differently sized labels."
   ]
  },
  {
   "cell_type": "code",
   "execution_count": null,
   "metadata": {},
   "outputs": [],
   "source": []
  }
 ],
 "metadata": {
  "kernelspec": {
   "display_name": "Python 3",
   "language": "python",
   "name": "python3"
  },
  "language_info": {
   "codemirror_mode": {
    "name": "ipython",
    "version": 3
   },
   "file_extension": ".py",
   "mimetype": "text/x-python",
   "name": "python",
   "nbconvert_exporter": "python",
   "pygments_lexer": "ipython3",
   "version": "3.7.6"
  }
 },
 "nbformat": 4,
 "nbformat_minor": 4
}

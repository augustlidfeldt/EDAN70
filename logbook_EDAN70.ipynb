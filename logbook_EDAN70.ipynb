{
 "cells": [
  {
   "cell_type": "markdown",
   "metadata": {},
   "source": [
    "## 16 - 11 - 2020\n",
    "\n",
    "**Aim:** Get an overview of project, earlier results and infrastructure\n",
    "\n",
    "**Result:** Requested access to LUNARC to acccess binary classifier from earlier project. Also started with data exploration in Excel and calculated correlations in the labeling between different lablers. \n",
    "\n",
    "**Next step:** Continue exploring the data and test current binary classifier. Also learn more about the data preperation through meeting on wednesday."
   ]
  },
  {
   "cell_type": "code",
   "execution_count": null,
   "metadata": {},
   "outputs": [],
   "source": []
  }
 ],
 "metadata": {
  "kernelspec": {
   "display_name": "Python 3",
   "language": "python",
   "name": "python3"
  },
  "language_info": {
   "codemirror_mode": {
    "name": "ipython",
    "version": 3
   },
   "file_extension": ".py",
   "mimetype": "text/x-python",
   "name": "python",
   "nbconvert_exporter": "python",
   "pygments_lexer": "ipython3",
   "version": "3.7.6"
  }
 },
 "nbformat": 4,
 "nbformat_minor": 4
}
